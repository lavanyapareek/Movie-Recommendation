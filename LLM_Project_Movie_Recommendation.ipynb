{
  "cells": [
    {
      "cell_type": "markdown",
      "metadata": {
        "id": "CqPTP8qCV5dN"
      },
      "source": [
        "##Install Required Packages"
      ]
    },
    {
      "cell_type": "code",
      "execution_count": 63,
      "metadata": {
        "id": "04dskCeg1ogF"
      },
      "outputs": [],
      "source": [
        "!pip install chromadb langchain openai tiktoken --quiet"
      ]
    },
    {
      "cell_type": "code",
      "execution_count": 64,
      "metadata": {
        "id": "6FgVaVxB2vnw"
      },
      "outputs": [],
      "source": [
        "!pip install langchain-community --quiet"
      ]
    },
    {
      "cell_type": "markdown",
      "metadata": {
        "id": "5J4ZBl8KTksW"
      },
      "source": [
        "## Importing Dependencies"
      ]
    },
    {
      "cell_type": "code",
      "execution_count": 65,
      "metadata": {
        "id": "ddCqUpS61-Ul"
      },
      "outputs": [],
      "source": [
        "import pandas as pd\n",
        "import tiktoken\n",
        "import os\n",
        "import openai\n",
        "\n",
        "#from openai.embeddings_utils import get_embedding\n",
        "\n",
        "from langchain.chains import RetrievalQA\n",
        "from langchain.document_loaders import TextLoader\n",
        "from langchain.embeddings.openai import OpenAIEmbeddings\n",
        "from langchain.llms import OpenAI\n",
        "from langchain.text_splitter import CharacterTextSplitter\n",
        "from langchain.vectorstores import Chroma\n",
        "from langchain.document_loaders.csv_loader import CSVLoader"
      ]
    },
    {
      "cell_type": "markdown",
      "metadata": {
        "id": "pNt6Qzl4WORE"
      },
      "source": [
        "##Mounting Google Drive to Access Data"
      ]
    },
    {
      "cell_type": "code",
      "execution_count": 66,
      "metadata": {
        "colab": {
          "base_uri": "https://localhost:8080/"
        },
        "id": "aMcjkXrH3aVe",
        "outputId": "2da0df97-153b-4fc5-cd6d-f347b9998613"
      },
      "outputs": [
        {
          "name": "stdout",
          "output_type": "stream",
          "text": [
            "Drive already mounted at /content/drive; to attempt to forcibly remount, call drive.mount(\"/content/drive\", force_remount=True).\n"
          ]
        }
      ],
      "source": [
        "from google.colab import drive\n",
        "drive.mount('/content/drive')"
      ]
    },
    {
      "cell_type": "markdown",
      "metadata": {
        "id": "RcN89oucWJv8"
      },
      "source": []
    },
    {
      "cell_type": "markdown",
      "metadata": {
        "id": "Oy9vOlVYTvdW"
      },
      "source": [
        "DataSet provided at https://www.kaggle.com/datasets/fahadrehman07/movie-reviews-and-emotion-dataset by FAHAD REHMAN"
      ]
    },
    {
      "cell_type": "code",
      "execution_count": 74,
      "metadata": {
        "colab": {
          "base_uri": "https://localhost:8080/",
          "height": 606
        },
        "id": "Geies8uN2G8k",
        "outputId": "51ba15f8-cb40-4565-8e8b-bf07d3e80bac"
      },
      "outputs": [
        {
          "data": {
            "application/vnd.google.colaboratory.intrinsic+json": {
              "summary": "{\n  \"name\": \"movie\",\n  \"rows\": 46173,\n  \"fields\": [\n    {\n      \"column\": \"Unnamed: 0\",\n      \"properties\": {\n        \"dtype\": \"number\",\n        \"std\": 13329,\n        \"min\": 0,\n        \"max\": 46172,\n        \"num_unique_values\": 46173,\n        \"samples\": [\n          34351,\n          4422,\n          26394\n        ],\n        \"semantic_type\": \"\",\n        \"description\": \"\"\n      }\n    },\n    {\n      \"column\": \"Ratings\",\n      \"properties\": {\n        \"dtype\": \"number\",\n        \"std\": 2.893144430785018,\n        \"min\": 1.0,\n        \"max\": 10.0,\n        \"num_unique_values\": 10,\n        \"samples\": [\n          2.0,\n          4.0,\n          7.0\n        ],\n        \"semantic_type\": \"\",\n        \"description\": \"\"\n      }\n    },\n    {\n      \"column\": \"Reviews\",\n      \"properties\": {\n        \"dtype\": \"category\",\n        \"num_unique_values\": 19316,\n        \"samples\": [\n          \"How bad can a film with Robert Deniro, Tommy Lee Jones and Michelle Pfeiffer be? Turns out very bad! I think it's supposed to be a dark comedy but somehow the laugh machine falters after a few chuckles in the first reel. The film never quite develops a consistent point of view or a consistent tone. If the writer/director (Luc Besson) had a vision, he certainly failed to get it on the screen. The violence escalates throughout the film leading to a cringe worthy last reel. The actors do what they can but the direction and writing just aren't there. If ever there was a film that needs re-editing, this it it. Give it a miss.\",\n          \"I saw this movie last Sunday night, and I have to say that I was deeply moved by it. I do not think that it had the cliches of teen films at all. If anything, the movie has a new perspective on teen love. Teen films today are mostly focused on \\\"getting laid\\\" or \\\"turning the ugly girl pretty\\\" (one way or another), just rent American Pie or She's All That. Not that there isn't a special place in my heart for these movies, but A Walk To Remember is in a class all by itself. The movie did have it's share of cheesy moments, due mostly to the overbearing dramatic musical score in certain scenes. Other than that, the characters were very genuine and the performances were most definitely heartfelt. Mandy Moore definitely holds her own in this movie as Jamie Sullivan, showing lots of emotional depth and making a complete transformation from teen pop goddess to modest southern girl. Shane West is a talent that should not be overlooked by Hollywood. He gets better and better in every film that he's in. He can do comedy (watch his underrated supporting comedic role in \\\"Get Over It\\\"), and he tackles drama with ease in this film. Great supporting turns from Peter Coyote as Jamie's father, and from an aged Darryl Hannah as Landon's mother.On to the topic of this review. This movie is not for cynical people, or people who do not believe in love. This movie's core message is that love can and will conquer all obstacles. This is a movie about teens who love each other in a very adult way. I can relate because I have had the same girlfriend for the past two years, ever since my senior year in high school. We love each other immensely, and we believe that we have a deep connection. People didn't think that we would last, because we just didn't act like all the other teen couples on campus. So when Landon would say these deeply loving things to Jamie in the movie, I cried because someone had said the same things I had said not too long ago to my girlfriend. So, if you don't believe in love, don't see this movie because you won't like it.If you have a bitterness toward religion, especially Christianity, don't see this movie, because you will just be bellyaching about the manipulation of religion on the youth of America. I am a Christian, not a hardcore one, but I do believe in God. There are Christian overtones in this movie, faith is spoken of many times in this movie, and faith is the cornerstone of Landon and Jamie's love. This movie is not preachy, it does not try to hammer home topics of Christianity with words. The movie prefers to use examples in real life situations and medaphors as well.I have to say thank you to the director and writer for not including a sex scene or a drunken teen party scene in this movie. It is a tasteful family film, and I'm glad it did not try to be too adult with it's content. The love that Landon and Jamie share is pure, and it is what makes their relationship unique in comparison to the other kids in their town.People may hate this movie because of the amount of sap or cheesiness. Well, I think the movie is very sugary and sweet, and has plenty of sap. But it is realistic sap. The situations warrant that amount of sap. You wouldn't make a scene where a guy is confessing his love for his lady all dark and gritty, would you? This movie also does have its share of grit, especially in relation to Landon's transformation. But you'll have to see the movie for that.People may also think that Mandy Moore is not believable in the role of Jamie Sullivan. This is complete hogwash. The point wasn't to make Jamie a real \\\"ugly duckling\\\", but a swan who does not care to spread her wings and show off for the rest of the world. Jamie carries a wisdom manifested from her faith and her life experiences. But her peers can't seem to get past her clothing choices and hairstyles to take her seriously. I just wish that in real life, people wouldn't look at beautiful as the equivalent of popular and ugly as the exact opposite. I knew quite a few beautiful girls in high school that sat at the back of the cafeteria and read books or did homework. That's just the sort of life they chose to lead, not because they were forced into it by being picked on, but because they simply existed on a different level. Jamie is exactly that type of person. Landon is that way too, but he just doesn't want to find that out, until he meets Jamie.Bottom line, you may love this movie for many reasons, or hate it for many more. This is a movie about soul mates. This is a movie about believing in people, especially in the ones you love. This is a movie about tolerance and not judging a book by its cover. This is a movie about friendship. This is a movie about two people who know they are right for each other. But most importantly, this is a movie about how true love can lift up even the most unreachable souls in this world, and save their lives.I give this movie a 9 out of 10.\",\n          \"This is really a spectacular film. I know I'm going to have to see it at least once more, because there's so much stuff going on that it's impossible to give Stay the attention in deserves in one viewing.First and foremost, although I won't give away the plot here, I'll say that the movie (thankfully) does not rely on a surprise ending for the totality of its impact. In fact, if you're paying attention, you can pretty much figure out (mostly) what the situation is before you get too far into the movie. Unlike some of the worst examples of this genre (i.e. The Sixth Sense), Stay is not a film that \\\"hides the ball,\\\" but instead presents you with characters and a storyline, and asks you to draw your own conclusions.That said, there isn't an obvious solution to the movie. While you may be able to explain the film after viewing it (which is trickier that it will seem at first), you may realize that the real brilliance of this film is in the levels of its narrative. At its core, it is a basic psychological thriller. Simultaneously, and perhaps subconsciously, it also meditates on weighty issues of reality and identity- consider what the imperative \\\"Stay\\\" means to different characters at different points in the film, and it's almost like you're watching an entirely different movie than you originally thought.Finally, the visuals in this movie provide their own context and narrative regarding the fragile nature of human memory and perception. This is the best looking movie I've seen in a long time, and the fact that it's combined with such a great story and cast makes this a rare treat.If there is a weak link here, it's probably Gosling, who I think missed some opportunities to really dig in with his character and creep us out. Still his acting is better than that of most of Hollywood's garbage these days.Final verdict: if you want a smart and unsettling film that will spur a serious discussion, watch this. You won't be disappointed.\"\n        ],\n        \"semantic_type\": \"\",\n        \"description\": \"\"\n      }\n    },\n    {\n      \"column\": \"movie_name\",\n      \"properties\": {\n        \"dtype\": \"category\",\n        \"num_unique_values\": 1583,\n        \"samples\": [\n          \"Machete\",\n          \"The Beach\",\n          \"Bizarre\"\n        ],\n        \"semantic_type\": \"\",\n        \"description\": \"\"\n      }\n    },\n    {\n      \"column\": \"Resenhas\",\n      \"properties\": {\n        \"dtype\": \"category\",\n        \"num_unique_values\": 19316,\n        \"samples\": [\n          \"Qu\\u00e3o ruim pode ser um filme com Robert Deniro, Tommy Lee Jones e Michelle Pfeiffer? Acontece muito ruim! Eu acho que \\u00e9 uma com\\u00e9dia sombria, mas de alguma forma a m\\u00e1quina do riso vacila depois de algumas risadas no primeiro rolo. O filme nunca desenvolve um ponto de vista consistente ou um tom consistente. Se o escritor / diretor (Luc Besson) teve uma vis\\u00e3o, ele certamente n\\u00e3o conseguiu coloc\\u00e1-la na tela. A viol\\u00eancia aumenta ao longo do filme, levando a um \\u00faltimo rolo digno de arrepio. Os atores fazem o que podem, mas a dire\\u00e7\\u00e3o e a escrita simplesmente n\\u00e3o est\\u00e3o l\\u00e1. Se alguma vez houve um filme que precisa ser reeditado, \\u00e9 este. D\\u00ea uma falta.\",\n          \"Eu vi esse filme no domingo \\u00e0 noite e devo dizer que fiquei profundamente comovido com ele. Eu n\\u00e3o acho que tenha os clich\\u00eas dos filmes para adolescentes. Se alguma coisa, o filme tem uma nova perspectiva sobre o amor adolescente. Hoje, os filmes para adolescentes se concentram principalmente em \\\"transar\\\" ou \\\"tornar a garota feia bonita\\\" (de uma maneira ou de outra), apenas alugue American Pie ou It's All That. N\\u00e3o que n\\u00e3o exista um lugar especial no meu cora\\u00e7\\u00e3o para esses filmes, mas A Walk To Remember est\\u00e1 em uma aula por si s\\u00f3. O filme teve sua parte de momentos extravagantes, devido principalmente \\u00e0 trilha sonora dram\\u00e1tica dominante em certas cenas. Fora isso, os personagens eram muito genu\\u00ednos e as performances eram definitivamente mais sinceras. Mandy Moore definitivamente se destaca neste filme como Jamie Sullivan, mostrando muita profundidade emocional e fazendo uma transforma\\u00e7\\u00e3o completa de deusa pop adolescente em modesta garota do sul. Shane West \\u00e9 um talento que n\\u00e3o deve ser esquecido por Hollywood. Ele fica cada vez melhor em todos os filmes em que participa. Ele pode fazer com\\u00e9dia (assista ao seu papel c\\u00f4mico subestimado em \\\"Get Over It\\\"), e aborda o drama com facilidade neste filme. O filme conta a hist\\u00f3ria de Peter Coyote, o pai de Jamie, e Darryl Hannah, a m\\u00e3e de Landon. Este filme n\\u00e3o \\u00e9 para pessoas c\\u00ednicas, ou pessoas que n\\u00e3o acreditam no amor. A mensagem principal deste filme \\u00e9 que o amor pode e vai vencer todos os obst\\u00e1culos. Este \\u00e9 um filme sobre adolescentes que se amam de uma maneira muito adulta. Posso me relacionar porque tive a mesma namorada nos \\u00faltimos dois anos, desde o \\u00faltimo ano do ensino m\\u00e9dio. N\\u00f3s nos amamos imensamente e acreditamos que temos uma conex\\u00e3o profunda. As pessoas n\\u00e3o pensavam que ir\\u00edamos durar, porque simplesmente n\\u00e3o ag\\u00edamos como todos os outros casais adolescentes do campus. Ent\\u00e3o, quando Landon dizia essas coisas profundamente amorosas para Jamie no filme, eu chorei porque algu\\u00e9m havia dito as mesmas coisas que eu havia dito h\\u00e1 n\\u00e3o muito tempo para minha namorada. Ent\\u00e3o, se voc\\u00ea n\\u00e3o acredita em amor, n\\u00e3o veja este filme porque n\\u00e3o vai gostar. Se voc\\u00ea tem uma amargura em rela\\u00e7\\u00e3o \\u00e0 religi\\u00e3o, especialmente ao cristianismo, n\\u00e3o veja esse filme, porque voc\\u00ea s\\u00f3 ficar\\u00e1 com dor de barriga. a manipula\\u00e7\\u00e3o da religi\\u00e3o na juventude da Am\\u00e9rica. Eu sou um crist\\u00e3o, n\\u00e3o um incondicional, mas acredito em Deus. Existem conota\\u00e7\\u00f5es crist\\u00e3s neste filme, a f\\u00e9 \\u00e9 mencionada muitas vezes neste filme, e a f\\u00e9 \\u00e9 a pedra angular do amor de Landon e Jamie. Este filme n\\u00e3o \\u00e9 pregador, n\\u00e3o tenta martelar os t\\u00f3picos do cristianismo com palavras. O filme prefere usar exemplos em situa\\u00e7\\u00f5es da vida real e tamb\\u00e9m em medaf\\u00f3s. Devo agradecer ao diretor e escritor por n\\u00e3o incluir uma cena de sexo ou uma cena de festa adolescente embriagada neste filme. \\u00c9 um filme de fam\\u00edlia de bom gosto, e fico feliz por n\\u00e3o ter tentado ser adulto demais com seu conte\\u00fado. O amor que Landon e Jamie compartilham \\u00e9 puro, e \\u00e9 o que torna seu relacionamento \\u00fanico em compara\\u00e7\\u00e3o com as outras crian\\u00e7as da cidade. As pessoas podem odiar esse filme por causa da quantidade de seiva ou extravag\\u00e2ncia. Bem, acho que o filme \\u00e9 muito a\\u00e7ucarado e doce, e tem muita seiva. Mas \\u00e9 uma seiva realista. As situa\\u00e7\\u00f5es justificam essa quantidade de seiva. Voc\\u00ea n\\u00e3o faria uma cena em que um cara estivesse confessando seu amor por sua dama toda sombria e corajosa, faria? Este filme tamb\\u00e9m tem sua participa\\u00e7\\u00e3o, principalmente em rela\\u00e7\\u00e3o \\u00e0 transforma\\u00e7\\u00e3o de Landon. As pessoas tamb\\u00e9m podem pensar que Mandy Moore n\\u00e3o \\u00e9 cr\\u00edvel no papel de Jamie Sullivan. Isso \\u00e9 bobagem completa. O objetivo n\\u00e3o era fazer de Jamie um verdadeiro \\\"patinho feio\\\", mas um cisne que n\\u00e3o se importa de abrir as asas e se exibir para o resto do mundo. Jamie carrega uma sabedoria manifestada em sua f\\u00e9 e em suas experi\\u00eancias de vida. Mas seus colegas n\\u00e3o conseguem superar suas escolhas de roupas e penteados para lev\\u00e1-la a s\\u00e9rio. Eu s\\u00f3 queria que na vida real, as pessoas n\\u00e3o olhassem bonita como o equivalente de popular e feia como exatamente o oposto. Eu conhecia algumas garotas bonitas do ensino m\\u00e9dio que estavam sentadas nos fundos da cafeteria e liam livros ou faziam li\\u00e7\\u00e3o de casa. Esse \\u00e9 exatamente o tipo de vida que eles escolheram levar, n\\u00e3o porque eles foram for\\u00e7ados a ser escolhidos, mas porque simplesmente existiam em um n\\u00edvel diferente. Jamie \\u00e9 exatamente esse tipo de pessoa. Landon tamb\\u00e9m \\u00e9 assim, mas ele n\\u00e3o quer descobrir isso at\\u00e9 conhecer Jamie.Bottom line, voc\\u00ea pode amar este filme por muitas raz\\u00f5es ou odi\\u00e1-lo por muitas outras. Este \\u00e9 um filme sobre almas g\\u00eameas. Este \\u00e9 um filme sobre acreditar nas pessoas, especialmente naquelas que voc\\u00ea ama. Este \\u00e9 um filme sobre toler\\u00e2ncia e n\\u00e3o julgar um livro pela capa. Este \\u00e9 um filme sobre amizade. Este \\u00e9 um filme sobre duas pessoas que sabem que s\\u00e3o certas uma para a outra. Mas o mais importante \\u00e9 que este \\u00e9 um filme sobre como o amor verdadeiro pode elevar at\\u00e9 as almas mais inacess\\u00edveis do mundo e salvar suas vidas.\",\n          \"Este \\u00e9 realmente um filme espetacular. Eu sei que vou ter que v\\u00ea-lo pelo menos mais uma vez, porque h\\u00e1 tantas coisas acontecendo que \\u00e9 imposs\\u00edvel dar Mantenha a aten\\u00e7\\u00e3o merecida em uma exibi\\u00e7\\u00e3o. Primeiro e acima de tudo, embora eu n\\u00e3o revele o enredo aqui, direi que o filme (felizmente) n\\u00e3o se baseia em uma surpresa que termina pela totalidade de seu impacto. De fato, se voc\\u00ea estiver prestando aten\\u00e7\\u00e3o, poder\\u00e1 descobrir (principalmente) qual \\u00e9 a situa\\u00e7\\u00e3o antes de se aprofundar no filme. Diferentemente de alguns dos piores exemplos desse g\\u00eanero (por exemplo, O Sexto Sentido), Stay n\\u00e3o \\u00e9 um filme que \\\"esconde a bola\\\", mas apresenta personagens e um enredo, e pede que voc\\u00ea tire suas pr\\u00f3prias conclus\\u00f5es. n\\u00e3o h\\u00e1 uma solu\\u00e7\\u00e3o \\u00f3bvia para o filme. Embora voc\\u00ea possa explicar o filme depois de visualiz\\u00e1-lo (o que \\u00e9 mais complicado que pare\\u00e7a a princ\\u00edpio), voc\\u00ea pode perceber que o brilho real desse filme est\\u00e1 nos n\\u00edveis de sua narrativa. Na sua ess\\u00eancia, \\u00e9 um thriller psicol\\u00f3gico b\\u00e1sico. Simultaneamente, e talvez subconscientemente, ele tamb\\u00e9m medita quest\\u00f5es importantes de realidade e identidade - considere o que o imperativo \\\"Permanecer\\\" significa para diferentes personagens em diferentes pontos do filme, e \\u00e9 quase como se voc\\u00ea estivesse assistindo a um filme totalmente diferente do original. Finalmente, o visual deste filme fornece seu pr\\u00f3prio contexto e narrativa sobre a natureza fr\\u00e1gil da mem\\u00f3ria e da percep\\u00e7\\u00e3o humanas. Este \\u00e9 o filme mais bonito que eu j\\u00e1 vi h\\u00e1 muito tempo, e o fato de ele ser combinado com uma hist\\u00f3ria e um elenco t\\u00e3o incr\\u00edveis faz com que seja um tratamento raro. algumas oportunidades para realmente cavar com seu personagem e nos assustar. Ainda assim, sua atua\\u00e7\\u00e3o \\u00e9 melhor do que a da maior parte do lixo de Hollywood nos dias de hoje. Veredicto final: se voc\\u00ea quer um filme inteligente e perturbador que incentive uma discuss\\u00e3o s\\u00e9ria, assista a isso. Voc\\u00ea n\\u00e3o ficar\\u00e1 desapontado.\"\n        ],\n        \"semantic_type\": \"\",\n        \"description\": \"\"\n      }\n    },\n    {\n      \"column\": \"genres\",\n      \"properties\": {\n        \"dtype\": \"category\",\n        \"num_unique_values\": 697,\n        \"samples\": [\n          \"['Comedy', 'Fantasy', 'Horror']\",\n          \"['Action', 'Adventure', 'Fantasy']\",\n          \"['Drama', 'Comedy', 'Horror']\"\n        ],\n        \"semantic_type\": \"\",\n        \"description\": \"\"\n      }\n    },\n    {\n      \"column\": \"Description\",\n      \"properties\": {\n        \"dtype\": \"category\",\n        \"num_unique_values\": 2060,\n        \"samples\": [\n          \"Ruofei is an orphan boy. One day he accidentally crossed over to a different era. In the world 100 years from now, he went on adventures with kongfu hero and discovered many secrets.\",\n          \"Justine Bateman rocks out as the leader of an all-girl band that struggles with men and drugs during a summer resort gig.\",\n          \"Convinced that a CCN cameraman is her true love, an eccentric crossword puzzler trails him as he travels all over the country, hoping to convince him that they belong together.\"\n        ],\n        \"semantic_type\": \"\",\n        \"description\": \"\"\n      }\n    },\n    {\n      \"column\": \"emotion\",\n      \"properties\": {\n        \"dtype\": \"category\",\n        \"num_unique_values\": 8,\n        \"samples\": [\n          \"sadness\",\n          \"optimism\",\n          \"anticipation\"\n        ],\n        \"semantic_type\": \"\",\n        \"description\": \"\"\n      }\n    }\n  ]\n}",
              "type": "dataframe",
              "variable_name": "movie"
            },
            "text/html": [
              "\n",
              "  <div id=\"df-ff2921ec-566c-40e5-8fc6-fb73e268a44d\" class=\"colab-df-container\">\n",
              "    <div>\n",
              "<style scoped>\n",
              "    .dataframe tbody tr th:only-of-type {\n",
              "        vertical-align: middle;\n",
              "    }\n",
              "\n",
              "    .dataframe tbody tr th {\n",
              "        vertical-align: top;\n",
              "    }\n",
              "\n",
              "    .dataframe thead th {\n",
              "        text-align: right;\n",
              "    }\n",
              "</style>\n",
              "<table border=\"1\" class=\"dataframe\">\n",
              "  <thead>\n",
              "    <tr style=\"text-align: right;\">\n",
              "      <th></th>\n",
              "      <th>Unnamed: 0</th>\n",
              "      <th>Ratings</th>\n",
              "      <th>Reviews</th>\n",
              "      <th>movie_name</th>\n",
              "      <th>Resenhas</th>\n",
              "      <th>genres</th>\n",
              "      <th>Description</th>\n",
              "      <th>emotion</th>\n",
              "    </tr>\n",
              "  </thead>\n",
              "  <tbody>\n",
              "    <tr>\n",
              "      <th>0</th>\n",
              "      <td>0</td>\n",
              "      <td>3.0</td>\n",
              "      <td>It had some laughs, but overall the motivation...</td>\n",
              "      <td>Waiting to Exhale</td>\n",
              "      <td>Riu algumas risadas, mas no geral a motivação ...</td>\n",
              "      <td>['Comedy', 'Drama', 'Romance']</td>\n",
              "      <td>Based on Terry McMillan's novel, this film fol...</td>\n",
              "      <td>anticipation</td>\n",
              "    </tr>\n",
              "    <tr>\n",
              "      <th>1</th>\n",
              "      <td>1</td>\n",
              "      <td>4.0</td>\n",
              "      <td>WAITING TO EXHALE Waiting, and waiting, and wa...</td>\n",
              "      <td>Waiting to Exhale</td>\n",
              "      <td>ESPERANDO PARA EXALAR Esperando, e esperando, ...</td>\n",
              "      <td>['Comedy', 'Drama', 'Romance']</td>\n",
              "      <td>Based on Terry McMillan's novel, this film fol...</td>\n",
              "      <td>anticipation</td>\n",
              "    </tr>\n",
              "    <tr>\n",
              "      <th>2</th>\n",
              "      <td>2</td>\n",
              "      <td>4.0</td>\n",
              "      <td>Angela Basset was good as expected, but Whitne...</td>\n",
              "      <td>Waiting to Exhale</td>\n",
              "      <td>Angela Basset foi boa como o esperado, mas Whi...</td>\n",
              "      <td>['Comedy', 'Drama', 'Romance']</td>\n",
              "      <td>Based on Terry McMillan's novel, this film fol...</td>\n",
              "      <td>anticipation</td>\n",
              "    </tr>\n",
              "    <tr>\n",
              "      <th>3</th>\n",
              "      <td>3</td>\n",
              "      <td>5.0</td>\n",
              "      <td>The movie is okay, mediocre might even be the ...</td>\n",
              "      <td>Waiting to Exhale</td>\n",
              "      <td>O filme é bom, medíocre pode até ser a palavra...</td>\n",
              "      <td>['Comedy', 'Drama', 'Romance']</td>\n",
              "      <td>Based on Terry McMillan's novel, this film fol...</td>\n",
              "      <td>anticipation</td>\n",
              "    </tr>\n",
              "    <tr>\n",
              "      <th>4</th>\n",
              "      <td>4</td>\n",
              "      <td>5.0</td>\n",
              "      <td>I got an opportunity to see Waiting To Exhale ...</td>\n",
              "      <td>Waiting to Exhale</td>\n",
              "      <td>Tive a oportunidade de ver Waiting To Exhale p...</td>\n",
              "      <td>['Comedy', 'Drama', 'Romance']</td>\n",
              "      <td>Based on Terry McMillan's novel, this film fol...</td>\n",
              "      <td>anticipation</td>\n",
              "    </tr>\n",
              "    <tr>\n",
              "      <th>...</th>\n",
              "      <td>...</td>\n",
              "      <td>...</td>\n",
              "      <td>...</td>\n",
              "      <td>...</td>\n",
              "      <td>...</td>\n",
              "      <td>...</td>\n",
              "      <td>...</td>\n",
              "      <td>...</td>\n",
              "    </tr>\n",
              "    <tr>\n",
              "      <th>46168</th>\n",
              "      <td>46168</td>\n",
              "      <td>10.0</td>\n",
              "      <td>10/10 buying this the second it's out online. ...</td>\n",
              "      <td>Robin Hood</td>\n",
              "      <td>10/10 comprando este no segundo que sai online...</td>\n",
              "      <td>['Drama', 'Action', 'Romance']</td>\n",
              "      <td>Add a Plot</td>\n",
              "      <td>anticipation</td>\n",
              "    </tr>\n",
              "    <tr>\n",
              "      <th>46169</th>\n",
              "      <td>46169</td>\n",
              "      <td>4.0</td>\n",
              "      <td>\"Lady Jayne:Killer\" is a bottom of the barrel ...</td>\n",
              "      <td>Betrayal</td>\n",
              "      <td>\"Lady Jayne: Killer\" é uma parte inferior do f...</td>\n",
              "      <td>['Action', 'Drama', 'Thriller']</td>\n",
              "      <td>Felix and Misela are father and daughter and o...</td>\n",
              "      <td>sadness</td>\n",
              "    </tr>\n",
              "    <tr>\n",
              "      <th>46170</th>\n",
              "      <td>46170</td>\n",
              "      <td>4.0</td>\n",
              "      <td>\"Lady Jayne:Killer\" is a bottom of the barrel ...</td>\n",
              "      <td>Betrayal</td>\n",
              "      <td>\"Lady Jayne: Killer\" é uma parte inferior do f...</td>\n",
              "      <td>['Action', 'Drama', 'Thriller']</td>\n",
              "      <td>After being ditched by long term girlfriend Ge...</td>\n",
              "      <td>sadness</td>\n",
              "    </tr>\n",
              "    <tr>\n",
              "      <th>46171</th>\n",
              "      <td>46171</td>\n",
              "      <td>5.0</td>\n",
              "      <td>As thrillers go, there are a few surprises her...</td>\n",
              "      <td>Betrayal</td>\n",
              "      <td>Como os filmes de suspense, existem algumas su...</td>\n",
              "      <td>['Action', 'Drama', 'Thriller']</td>\n",
              "      <td>Felix and Misela are father and daughter and o...</td>\n",
              "      <td>sadness</td>\n",
              "    </tr>\n",
              "    <tr>\n",
              "      <th>46172</th>\n",
              "      <td>46172</td>\n",
              "      <td>5.0</td>\n",
              "      <td>As thrillers go, there are a few surprises her...</td>\n",
              "      <td>Betrayal</td>\n",
              "      <td>Como os filmes de suspense, existem algumas su...</td>\n",
              "      <td>['Action', 'Drama', 'Thriller']</td>\n",
              "      <td>After being ditched by long term girlfriend Ge...</td>\n",
              "      <td>sadness</td>\n",
              "    </tr>\n",
              "  </tbody>\n",
              "</table>\n",
              "<p>46173 rows × 8 columns</p>\n",
              "</div>\n",
              "    <div class=\"colab-df-buttons\">\n",
              "\n",
              "  <div class=\"colab-df-container\">\n",
              "    <button class=\"colab-df-convert\" onclick=\"convertToInteractive('df-ff2921ec-566c-40e5-8fc6-fb73e268a44d')\"\n",
              "            title=\"Convert this dataframe to an interactive table.\"\n",
              "            style=\"display:none;\">\n",
              "\n",
              "  <svg xmlns=\"http://www.w3.org/2000/svg\" height=\"24px\" viewBox=\"0 -960 960 960\">\n",
              "    <path d=\"M120-120v-720h720v720H120Zm60-500h600v-160H180v160Zm220 220h160v-160H400v160Zm0 220h160v-160H400v160ZM180-400h160v-160H180v160Zm440 0h160v-160H620v160ZM180-180h160v-160H180v160Zm440 0h160v-160H620v160Z\"/>\n",
              "  </svg>\n",
              "    </button>\n",
              "\n",
              "  <style>\n",
              "    .colab-df-container {\n",
              "      display:flex;\n",
              "      gap: 12px;\n",
              "    }\n",
              "\n",
              "    .colab-df-convert {\n",
              "      background-color: #E8F0FE;\n",
              "      border: none;\n",
              "      border-radius: 50%;\n",
              "      cursor: pointer;\n",
              "      display: none;\n",
              "      fill: #1967D2;\n",
              "      height: 32px;\n",
              "      padding: 0 0 0 0;\n",
              "      width: 32px;\n",
              "    }\n",
              "\n",
              "    .colab-df-convert:hover {\n",
              "      background-color: #E2EBFA;\n",
              "      box-shadow: 0px 1px 2px rgba(60, 64, 67, 0.3), 0px 1px 3px 1px rgba(60, 64, 67, 0.15);\n",
              "      fill: #174EA6;\n",
              "    }\n",
              "\n",
              "    .colab-df-buttons div {\n",
              "      margin-bottom: 4px;\n",
              "    }\n",
              "\n",
              "    [theme=dark] .colab-df-convert {\n",
              "      background-color: #3B4455;\n",
              "      fill: #D2E3FC;\n",
              "    }\n",
              "\n",
              "    [theme=dark] .colab-df-convert:hover {\n",
              "      background-color: #434B5C;\n",
              "      box-shadow: 0px 1px 3px 1px rgba(0, 0, 0, 0.15);\n",
              "      filter: drop-shadow(0px 1px 2px rgba(0, 0, 0, 0.3));\n",
              "      fill: #FFFFFF;\n",
              "    }\n",
              "  </style>\n",
              "\n",
              "    <script>\n",
              "      const buttonEl =\n",
              "        document.querySelector('#df-ff2921ec-566c-40e5-8fc6-fb73e268a44d button.colab-df-convert');\n",
              "      buttonEl.style.display =\n",
              "        google.colab.kernel.accessAllowed ? 'block' : 'none';\n",
              "\n",
              "      async function convertToInteractive(key) {\n",
              "        const element = document.querySelector('#df-ff2921ec-566c-40e5-8fc6-fb73e268a44d');\n",
              "        const dataTable =\n",
              "          await google.colab.kernel.invokeFunction('convertToInteractive',\n",
              "                                                    [key], {});\n",
              "        if (!dataTable) return;\n",
              "\n",
              "        const docLinkHtml = 'Like what you see? Visit the ' +\n",
              "          '<a target=\"_blank\" href=https://colab.research.google.com/notebooks/data_table.ipynb>data table notebook</a>'\n",
              "          + ' to learn more about interactive tables.';\n",
              "        element.innerHTML = '';\n",
              "        dataTable['output_type'] = 'display_data';\n",
              "        await google.colab.output.renderOutput(dataTable, element);\n",
              "        const docLink = document.createElement('div');\n",
              "        docLink.innerHTML = docLinkHtml;\n",
              "        element.appendChild(docLink);\n",
              "      }\n",
              "    </script>\n",
              "  </div>\n",
              "\n",
              "\n",
              "<div id=\"df-90cb335c-5222-4c19-b7b6-40a7b334a9dc\">\n",
              "  <button class=\"colab-df-quickchart\" onclick=\"quickchart('df-90cb335c-5222-4c19-b7b6-40a7b334a9dc')\"\n",
              "            title=\"Suggest charts\"\n",
              "            style=\"display:none;\">\n",
              "\n",
              "<svg xmlns=\"http://www.w3.org/2000/svg\" height=\"24px\"viewBox=\"0 0 24 24\"\n",
              "     width=\"24px\">\n",
              "    <g>\n",
              "        <path d=\"M19 3H5c-1.1 0-2 .9-2 2v14c0 1.1.9 2 2 2h14c1.1 0 2-.9 2-2V5c0-1.1-.9-2-2-2zM9 17H7v-7h2v7zm4 0h-2V7h2v10zm4 0h-2v-4h2v4z\"/>\n",
              "    </g>\n",
              "</svg>\n",
              "  </button>\n",
              "\n",
              "<style>\n",
              "  .colab-df-quickchart {\n",
              "      --bg-color: #E8F0FE;\n",
              "      --fill-color: #1967D2;\n",
              "      --hover-bg-color: #E2EBFA;\n",
              "      --hover-fill-color: #174EA6;\n",
              "      --disabled-fill-color: #AAA;\n",
              "      --disabled-bg-color: #DDD;\n",
              "  }\n",
              "\n",
              "  [theme=dark] .colab-df-quickchart {\n",
              "      --bg-color: #3B4455;\n",
              "      --fill-color: #D2E3FC;\n",
              "      --hover-bg-color: #434B5C;\n",
              "      --hover-fill-color: #FFFFFF;\n",
              "      --disabled-bg-color: #3B4455;\n",
              "      --disabled-fill-color: #666;\n",
              "  }\n",
              "\n",
              "  .colab-df-quickchart {\n",
              "    background-color: var(--bg-color);\n",
              "    border: none;\n",
              "    border-radius: 50%;\n",
              "    cursor: pointer;\n",
              "    display: none;\n",
              "    fill: var(--fill-color);\n",
              "    height: 32px;\n",
              "    padding: 0;\n",
              "    width: 32px;\n",
              "  }\n",
              "\n",
              "  .colab-df-quickchart:hover {\n",
              "    background-color: var(--hover-bg-color);\n",
              "    box-shadow: 0 1px 2px rgba(60, 64, 67, 0.3), 0 1px 3px 1px rgba(60, 64, 67, 0.15);\n",
              "    fill: var(--button-hover-fill-color);\n",
              "  }\n",
              "\n",
              "  .colab-df-quickchart-complete:disabled,\n",
              "  .colab-df-quickchart-complete:disabled:hover {\n",
              "    background-color: var(--disabled-bg-color);\n",
              "    fill: var(--disabled-fill-color);\n",
              "    box-shadow: none;\n",
              "  }\n",
              "\n",
              "  .colab-df-spinner {\n",
              "    border: 2px solid var(--fill-color);\n",
              "    border-color: transparent;\n",
              "    border-bottom-color: var(--fill-color);\n",
              "    animation:\n",
              "      spin 1s steps(1) infinite;\n",
              "  }\n",
              "\n",
              "  @keyframes spin {\n",
              "    0% {\n",
              "      border-color: transparent;\n",
              "      border-bottom-color: var(--fill-color);\n",
              "      border-left-color: var(--fill-color);\n",
              "    }\n",
              "    20% {\n",
              "      border-color: transparent;\n",
              "      border-left-color: var(--fill-color);\n",
              "      border-top-color: var(--fill-color);\n",
              "    }\n",
              "    30% {\n",
              "      border-color: transparent;\n",
              "      border-left-color: var(--fill-color);\n",
              "      border-top-color: var(--fill-color);\n",
              "      border-right-color: var(--fill-color);\n",
              "    }\n",
              "    40% {\n",
              "      border-color: transparent;\n",
              "      border-right-color: var(--fill-color);\n",
              "      border-top-color: var(--fill-color);\n",
              "    }\n",
              "    60% {\n",
              "      border-color: transparent;\n",
              "      border-right-color: var(--fill-color);\n",
              "    }\n",
              "    80% {\n",
              "      border-color: transparent;\n",
              "      border-right-color: var(--fill-color);\n",
              "      border-bottom-color: var(--fill-color);\n",
              "    }\n",
              "    90% {\n",
              "      border-color: transparent;\n",
              "      border-bottom-color: var(--fill-color);\n",
              "    }\n",
              "  }\n",
              "</style>\n",
              "\n",
              "  <script>\n",
              "    async function quickchart(key) {\n",
              "      const quickchartButtonEl =\n",
              "        document.querySelector('#' + key + ' button');\n",
              "      quickchartButtonEl.disabled = true;  // To prevent multiple clicks.\n",
              "      quickchartButtonEl.classList.add('colab-df-spinner');\n",
              "      try {\n",
              "        const charts = await google.colab.kernel.invokeFunction(\n",
              "            'suggestCharts', [key], {});\n",
              "      } catch (error) {\n",
              "        console.error('Error during call to suggestCharts:', error);\n",
              "      }\n",
              "      quickchartButtonEl.classList.remove('colab-df-spinner');\n",
              "      quickchartButtonEl.classList.add('colab-df-quickchart-complete');\n",
              "    }\n",
              "    (() => {\n",
              "      let quickchartButtonEl =\n",
              "        document.querySelector('#df-90cb335c-5222-4c19-b7b6-40a7b334a9dc button');\n",
              "      quickchartButtonEl.style.display =\n",
              "        google.colab.kernel.accessAllowed ? 'block' : 'none';\n",
              "    })();\n",
              "  </script>\n",
              "</div>\n",
              "\n",
              "  <div id=\"id_af5fecfa-f094-43da-893a-4ddfe24aad6d\">\n",
              "    <style>\n",
              "      .colab-df-generate {\n",
              "        background-color: #E8F0FE;\n",
              "        border: none;\n",
              "        border-radius: 50%;\n",
              "        cursor: pointer;\n",
              "        display: none;\n",
              "        fill: #1967D2;\n",
              "        height: 32px;\n",
              "        padding: 0 0 0 0;\n",
              "        width: 32px;\n",
              "      }\n",
              "\n",
              "      .colab-df-generate:hover {\n",
              "        background-color: #E2EBFA;\n",
              "        box-shadow: 0px 1px 2px rgba(60, 64, 67, 0.3), 0px 1px 3px 1px rgba(60, 64, 67, 0.15);\n",
              "        fill: #174EA6;\n",
              "      }\n",
              "\n",
              "      [theme=dark] .colab-df-generate {\n",
              "        background-color: #3B4455;\n",
              "        fill: #D2E3FC;\n",
              "      }\n",
              "\n",
              "      [theme=dark] .colab-df-generate:hover {\n",
              "        background-color: #434B5C;\n",
              "        box-shadow: 0px 1px 3px 1px rgba(0, 0, 0, 0.15);\n",
              "        filter: drop-shadow(0px 1px 2px rgba(0, 0, 0, 0.3));\n",
              "        fill: #FFFFFF;\n",
              "      }\n",
              "    </style>\n",
              "    <button class=\"colab-df-generate\" onclick=\"generateWithVariable('movie')\"\n",
              "            title=\"Generate code using this dataframe.\"\n",
              "            style=\"display:none;\">\n",
              "\n",
              "  <svg xmlns=\"http://www.w3.org/2000/svg\" height=\"24px\"viewBox=\"0 0 24 24\"\n",
              "       width=\"24px\">\n",
              "    <path d=\"M7,19H8.4L18.45,9,17,7.55,7,17.6ZM5,21V16.75L18.45,3.32a2,2,0,0,1,2.83,0l1.4,1.43a1.91,1.91,0,0,1,.58,1.4,1.91,1.91,0,0,1-.58,1.4L9.25,21ZM18.45,9,17,7.55Zm-12,3A5.31,5.31,0,0,0,4.9,8.1,5.31,5.31,0,0,0,1,6.5,5.31,5.31,0,0,0,4.9,4.9,5.31,5.31,0,0,0,6.5,1,5.31,5.31,0,0,0,8.1,4.9,5.31,5.31,0,0,0,12,6.5,5.46,5.46,0,0,0,6.5,12Z\"/>\n",
              "  </svg>\n",
              "    </button>\n",
              "    <script>\n",
              "      (() => {\n",
              "      const buttonEl =\n",
              "        document.querySelector('#id_af5fecfa-f094-43da-893a-4ddfe24aad6d button.colab-df-generate');\n",
              "      buttonEl.style.display =\n",
              "        google.colab.kernel.accessAllowed ? 'block' : 'none';\n",
              "\n",
              "      buttonEl.onclick = () => {\n",
              "        google.colab.notebook.generateWithVariable('movie');\n",
              "      }\n",
              "      })();\n",
              "    </script>\n",
              "  </div>\n",
              "\n",
              "    </div>\n",
              "  </div>\n"
            ],
            "text/plain": [
              "       Unnamed: 0  Ratings                                            Reviews  \\\n",
              "0               0      3.0  It had some laughs, but overall the motivation...   \n",
              "1               1      4.0  WAITING TO EXHALE Waiting, and waiting, and wa...   \n",
              "2               2      4.0  Angela Basset was good as expected, but Whitne...   \n",
              "3               3      5.0  The movie is okay, mediocre might even be the ...   \n",
              "4               4      5.0  I got an opportunity to see Waiting To Exhale ...   \n",
              "...           ...      ...                                                ...   \n",
              "46168       46168     10.0  10/10 buying this the second it's out online. ...   \n",
              "46169       46169      4.0  \"Lady Jayne:Killer\" is a bottom of the barrel ...   \n",
              "46170       46170      4.0  \"Lady Jayne:Killer\" is a bottom of the barrel ...   \n",
              "46171       46171      5.0  As thrillers go, there are a few surprises her...   \n",
              "46172       46172      5.0  As thrillers go, there are a few surprises her...   \n",
              "\n",
              "              movie_name                                           Resenhas  \\\n",
              "0      Waiting to Exhale  Riu algumas risadas, mas no geral a motivação ...   \n",
              "1      Waiting to Exhale  ESPERANDO PARA EXALAR Esperando, e esperando, ...   \n",
              "2      Waiting to Exhale  Angela Basset foi boa como o esperado, mas Whi...   \n",
              "3      Waiting to Exhale  O filme é bom, medíocre pode até ser a palavra...   \n",
              "4      Waiting to Exhale  Tive a oportunidade de ver Waiting To Exhale p...   \n",
              "...                  ...                                                ...   \n",
              "46168         Robin Hood  10/10 comprando este no segundo que sai online...   \n",
              "46169           Betrayal  \"Lady Jayne: Killer\" é uma parte inferior do f...   \n",
              "46170           Betrayal  \"Lady Jayne: Killer\" é uma parte inferior do f...   \n",
              "46171           Betrayal  Como os filmes de suspense, existem algumas su...   \n",
              "46172           Betrayal  Como os filmes de suspense, existem algumas su...   \n",
              "\n",
              "                                genres  \\\n",
              "0       ['Comedy', 'Drama', 'Romance']   \n",
              "1       ['Comedy', 'Drama', 'Romance']   \n",
              "2       ['Comedy', 'Drama', 'Romance']   \n",
              "3       ['Comedy', 'Drama', 'Romance']   \n",
              "4       ['Comedy', 'Drama', 'Romance']   \n",
              "...                                ...   \n",
              "46168   ['Drama', 'Action', 'Romance']   \n",
              "46169  ['Action', 'Drama', 'Thriller']   \n",
              "46170  ['Action', 'Drama', 'Thriller']   \n",
              "46171  ['Action', 'Drama', 'Thriller']   \n",
              "46172  ['Action', 'Drama', 'Thriller']   \n",
              "\n",
              "                                             Description       emotion  \n",
              "0      Based on Terry McMillan's novel, this film fol...  anticipation  \n",
              "1      Based on Terry McMillan's novel, this film fol...  anticipation  \n",
              "2      Based on Terry McMillan's novel, this film fol...  anticipation  \n",
              "3      Based on Terry McMillan's novel, this film fol...  anticipation  \n",
              "4      Based on Terry McMillan's novel, this film fol...  anticipation  \n",
              "...                                                  ...           ...  \n",
              "46168                                         Add a Plot  anticipation  \n",
              "46169  Felix and Misela are father and daughter and o...       sadness  \n",
              "46170  After being ditched by long term girlfriend Ge...       sadness  \n",
              "46171  Felix and Misela are father and daughter and o...       sadness  \n",
              "46172  After being ditched by long term girlfriend Ge...       sadness  \n",
              "\n",
              "[46173 rows x 8 columns]"
            ]
          },
          "execution_count": 74,
          "metadata": {},
          "output_type": "execute_result"
        }
      ],
      "source": [
        "movie = pd.read_csv('/content/drive/MyDrive/Movies_Reviews_modified_version1.csv')\n",
        "movie"
      ]
    },
    {
      "cell_type": "markdown",
      "metadata": {
        "id": "mqv3PIVIWVVx"
      },
      "source": [
        "## Group by movie_name and combine reviews"
      ]
    },
    {
      "cell_type": "markdown",
      "metadata": {
        "id": "7IMZowTFUI78"
      },
      "source": [
        "Removing unnecesary columns and grouping the reviews to reduce the total length of data to be processed"
      ]
    },
    {
      "cell_type": "code",
      "execution_count": 75,
      "metadata": {
        "id": "W5Jlztwl9KNQ"
      },
      "outputs": [],
      "source": [
        "df = movie\n",
        "# Group by movie_name and combine reviews\n",
        "combined_df = df.groupby('movie_name').agg({\n",
        "    'Description': 'first',  # Assuming the description is the same for all rows of the same movie\n",
        "    'genres': 'first',  # Assuming genres are the same for all rows of the same movie\n",
        "    'Reviews': 'first' # Combine all reviews\n",
        "}).reset_index()\n",
        "\n",
        "# Create the combined_info column\n",
        "combined_df['combined_info'] = combined_df.apply(\n",
        "    lambda row: f\"Title: {row['movie_name']}. Overview: {row['Description']} Genres: {row['genres']} Reviews: {row['Reviews']}\",\n",
        "    axis=1\n",
        ")\n",
        "\n",
        "# Drop unnecessary columns if desired\n",
        "combined_df = combined_df[['movie_name', 'combined_info']]"
      ]
    },
    {
      "cell_type": "markdown",
      "metadata": {
        "id": "x95xwZXyWpCi"
      },
      "source": [
        "Drop unnecessary columns and clean the data"
      ]
    },
    {
      "cell_type": "code",
      "execution_count": 76,
      "metadata": {
        "id": "UqROus0D3FgZ"
      },
      "outputs": [],
      "source": [
        "movie = combined_df\n",
        "movie = movie.dropna()"
      ]
    },
    {
      "cell_type": "markdown",
      "metadata": {
        "id": "gILXcFZLWsrO"
      },
      "source": [
        "Calculate the total length of all combined_info entries"
      ]
    },
    {
      "cell_type": "code",
      "execution_count": 78,
      "metadata": {
        "colab": {
          "base_uri": "https://localhost:8080/"
        },
        "id": "Gp4cCfNs-YJO",
        "outputId": "ad541bd3-56b6-4149-89f3-f9e30e7770d3"
      },
      "outputs": [
        {
          "data": {
            "text/plain": [
              "2361276"
            ]
          },
          "execution_count": 78,
          "metadata": {},
          "output_type": "execute_result"
        }
      ],
      "source": [
        "res = 0;\n",
        "for i in range(len(movie['combined_info'])):\n",
        "  res += len(movie['combined_info'][i])\n",
        "res"
      ]
    },
    {
      "cell_type": "markdown",
      "metadata": {
        "id": "DmS5UucqW4tY"
      },
      "source": [
        "Save the cleaned and combined data to a CSV file"
      ]
    },
    {
      "cell_type": "code",
      "execution_count": 79,
      "metadata": {
        "id": "fmYKXbCj56KL"
      },
      "outputs": [],
      "source": [
        "movie[['combined_info']].to_csv('movie_updated.csv', index=False)"
      ]
    },
    {
      "cell_type": "markdown",
      "metadata": {
        "id": "AqAn920tW5v2"
      },
      "source": [
        "Display the first few rows of the processed data"
      ]
    },
    {
      "cell_type": "code",
      "execution_count": 80,
      "metadata": {
        "colab": {
          "base_uri": "https://localhost:8080/",
          "height": 204
        },
        "id": "Y-kAk0RX6D7y",
        "outputId": "6f143531-142e-4c80-83bb-abcb1b18f0c0"
      },
      "outputs": [
        {
          "data": {
            "application/vnd.google.colaboratory.intrinsic+json": {
              "summary": "{\n  \"name\": \"pd\",\n  \"rows\": 5,\n  \"fields\": [\n    {\n      \"column\": \"combined_info\",\n      \"properties\": {\n        \"dtype\": \"string\",\n        \"num_unique_values\": 5,\n        \"samples\": [\n          \"Title: 10 Rules for Sleeping Around. Overview: A screwball sex comedy following two couples and their 10 rules to a happy, healthy, open relationship. Genres: ['Comedy', 'Romance'] Reviews: This film begins with an attractive young woman named \\\"Cameron Johnson\\\" (Virginia Williams) asking her good friend \\\"Kate Oliver\\\" (Tammin Sursok) for permission to use her summer house in the Hamptons for the weekend. When Kate asks her what her plans are Cameron reveals that she has a date she would like to spend some time with. This shocks Kate because she knows that Cameron is married. It's then that Cameron tells her that she and her husband \\\"Vince Johnson\\\" (Jesse Bradford) have an arraignment where they are allowed to sleep around with strangers as long as they follow 10 basic rules. As it so happens, at that exact same moment, Vince is also telling Kate's boyfriend \\\"Ben Roberts\\\" (Chris Marquette) about their arraignment and encourages him to expand his horizons by asking Kate to allow another woman to join Ben and her in a threesome. However, when Ben does ask he is totally unprepared for Kate's response. For that matter, none of them are fully prepared for the pandemonium they unleash when they all try to fulfill their desires. Now rather than reveal any more I will just say that there were some absolutely hilarious scenes in this film. Unfortunately, on more than a few occasions the director (Leslie Grief) wasn't apparently satisfied with that and kept pushing the envelope much too far--and by doing so he often turned a humorous scene into something that was quite vulgar and distasteful. That being said, I'm not sure if he was trying to make a statement or not but the end result wasn't something I particularly cared for and for that reason I have rated this film accordingly. Below average.\",\n          \"Title: 11/11/11. Overview: Nicole has six months to get married... she just doesn't have a fianc\\u00e9 yet. Genres: ['Horror', 'Thriller'] Reviews: I don't usually mind movies being a little rough around the edges but this one was just terrible. I felt like the producers just said \\\"meh, that will do.\\\" and released it without any thought about detail or quality. The visual effects were not just poor but offensive, the plot had huge holes in it (more holes than plot) and the choices made during the story were just insane by any standards. The most annoying part about the whole thing is the ending - or lack of one. The story wasn't wrapped up, we have no idea what happened to 90% of the characters in the movie, and it just plain made no sense. In short I would not recommend this train wreck of a move to anyone.\",\n          \"Title: 10 Things I Hate About You. Overview: A pretty, popular teenager can't go out on a date until her ill-tempered older sister does. Genres: ['Comedy', 'Romance', 'Drama'] Reviews: Okay, John Taylor wrote this elsewhere on here, but it summed up precisely what I thought, so reitterated it:1.It is another teen flick. 2.It is predictable. 3.It is not funny. 4.The characters are not believable. 5.It's boring 6.No school is ever like this one. 7.The ending made me want to puke. 8.Everyone has model looks. 9.The script is tepid. 10.lousy acting. And i could go on. There is nothing in this movie that i havent already seen in every other teen college flick.3 out of 10. And that's GENEROUS.\"\n        ],\n        \"semantic_type\": \"\",\n        \"description\": \"\"\n      }\n    }\n  ]\n}",
              "type": "dataframe"
            },
            "text/html": [
              "\n",
              "  <div id=\"df-19ebf509-1844-47eb-b27f-12c5dbef286c\" class=\"colab-df-container\">\n",
              "    <div>\n",
              "<style scoped>\n",
              "    .dataframe tbody tr th:only-of-type {\n",
              "        vertical-align: middle;\n",
              "    }\n",
              "\n",
              "    .dataframe tbody tr th {\n",
              "        vertical-align: top;\n",
              "    }\n",
              "\n",
              "    .dataframe thead th {\n",
              "        text-align: right;\n",
              "    }\n",
              "</style>\n",
              "<table border=\"1\" class=\"dataframe\">\n",
              "  <thead>\n",
              "    <tr style=\"text-align: right;\">\n",
              "      <th></th>\n",
              "      <th>combined_info</th>\n",
              "    </tr>\n",
              "  </thead>\n",
              "  <tbody>\n",
              "    <tr>\n",
              "      <th>0</th>\n",
              "      <td>Title: +1. Overview: Three college friends hit...</td>\n",
              "    </tr>\n",
              "    <tr>\n",
              "      <th>1</th>\n",
              "      <td>Title: 10 Rules for Sleeping Around. Overview:...</td>\n",
              "    </tr>\n",
              "    <tr>\n",
              "      <th>2</th>\n",
              "      <td>Title: 10 Things I Hate About You. Overview: A...</td>\n",
              "    </tr>\n",
              "    <tr>\n",
              "      <th>3</th>\n",
              "      <td>Title: 100 Girls. Overview: Matt spends the ni...</td>\n",
              "    </tr>\n",
              "    <tr>\n",
              "      <th>4</th>\n",
              "      <td>Title: 11/11/11. Overview: Nicole has six mont...</td>\n",
              "    </tr>\n",
              "  </tbody>\n",
              "</table>\n",
              "</div>\n",
              "    <div class=\"colab-df-buttons\">\n",
              "\n",
              "  <div class=\"colab-df-container\">\n",
              "    <button class=\"colab-df-convert\" onclick=\"convertToInteractive('df-19ebf509-1844-47eb-b27f-12c5dbef286c')\"\n",
              "            title=\"Convert this dataframe to an interactive table.\"\n",
              "            style=\"display:none;\">\n",
              "\n",
              "  <svg xmlns=\"http://www.w3.org/2000/svg\" height=\"24px\" viewBox=\"0 -960 960 960\">\n",
              "    <path d=\"M120-120v-720h720v720H120Zm60-500h600v-160H180v160Zm220 220h160v-160H400v160Zm0 220h160v-160H400v160ZM180-400h160v-160H180v160Zm440 0h160v-160H620v160ZM180-180h160v-160H180v160Zm440 0h160v-160H620v160Z\"/>\n",
              "  </svg>\n",
              "    </button>\n",
              "\n",
              "  <style>\n",
              "    .colab-df-container {\n",
              "      display:flex;\n",
              "      gap: 12px;\n",
              "    }\n",
              "\n",
              "    .colab-df-convert {\n",
              "      background-color: #E8F0FE;\n",
              "      border: none;\n",
              "      border-radius: 50%;\n",
              "      cursor: pointer;\n",
              "      display: none;\n",
              "      fill: #1967D2;\n",
              "      height: 32px;\n",
              "      padding: 0 0 0 0;\n",
              "      width: 32px;\n",
              "    }\n",
              "\n",
              "    .colab-df-convert:hover {\n",
              "      background-color: #E2EBFA;\n",
              "      box-shadow: 0px 1px 2px rgba(60, 64, 67, 0.3), 0px 1px 3px 1px rgba(60, 64, 67, 0.15);\n",
              "      fill: #174EA6;\n",
              "    }\n",
              "\n",
              "    .colab-df-buttons div {\n",
              "      margin-bottom: 4px;\n",
              "    }\n",
              "\n",
              "    [theme=dark] .colab-df-convert {\n",
              "      background-color: #3B4455;\n",
              "      fill: #D2E3FC;\n",
              "    }\n",
              "\n",
              "    [theme=dark] .colab-df-convert:hover {\n",
              "      background-color: #434B5C;\n",
              "      box-shadow: 0px 1px 3px 1px rgba(0, 0, 0, 0.15);\n",
              "      filter: drop-shadow(0px 1px 2px rgba(0, 0, 0, 0.3));\n",
              "      fill: #FFFFFF;\n",
              "    }\n",
              "  </style>\n",
              "\n",
              "    <script>\n",
              "      const buttonEl =\n",
              "        document.querySelector('#df-19ebf509-1844-47eb-b27f-12c5dbef286c button.colab-df-convert');\n",
              "      buttonEl.style.display =\n",
              "        google.colab.kernel.accessAllowed ? 'block' : 'none';\n",
              "\n",
              "      async function convertToInteractive(key) {\n",
              "        const element = document.querySelector('#df-19ebf509-1844-47eb-b27f-12c5dbef286c');\n",
              "        const dataTable =\n",
              "          await google.colab.kernel.invokeFunction('convertToInteractive',\n",
              "                                                    [key], {});\n",
              "        if (!dataTable) return;\n",
              "\n",
              "        const docLinkHtml = 'Like what you see? Visit the ' +\n",
              "          '<a target=\"_blank\" href=https://colab.research.google.com/notebooks/data_table.ipynb>data table notebook</a>'\n",
              "          + ' to learn more about interactive tables.';\n",
              "        element.innerHTML = '';\n",
              "        dataTable['output_type'] = 'display_data';\n",
              "        await google.colab.output.renderOutput(dataTable, element);\n",
              "        const docLink = document.createElement('div');\n",
              "        docLink.innerHTML = docLinkHtml;\n",
              "        element.appendChild(docLink);\n",
              "      }\n",
              "    </script>\n",
              "  </div>\n",
              "\n",
              "\n",
              "<div id=\"df-8b331f37-966e-45e8-a88d-ae7264ff17b0\">\n",
              "  <button class=\"colab-df-quickchart\" onclick=\"quickchart('df-8b331f37-966e-45e8-a88d-ae7264ff17b0')\"\n",
              "            title=\"Suggest charts\"\n",
              "            style=\"display:none;\">\n",
              "\n",
              "<svg xmlns=\"http://www.w3.org/2000/svg\" height=\"24px\"viewBox=\"0 0 24 24\"\n",
              "     width=\"24px\">\n",
              "    <g>\n",
              "        <path d=\"M19 3H5c-1.1 0-2 .9-2 2v14c0 1.1.9 2 2 2h14c1.1 0 2-.9 2-2V5c0-1.1-.9-2-2-2zM9 17H7v-7h2v7zm4 0h-2V7h2v10zm4 0h-2v-4h2v4z\"/>\n",
              "    </g>\n",
              "</svg>\n",
              "  </button>\n",
              "\n",
              "<style>\n",
              "  .colab-df-quickchart {\n",
              "      --bg-color: #E8F0FE;\n",
              "      --fill-color: #1967D2;\n",
              "      --hover-bg-color: #E2EBFA;\n",
              "      --hover-fill-color: #174EA6;\n",
              "      --disabled-fill-color: #AAA;\n",
              "      --disabled-bg-color: #DDD;\n",
              "  }\n",
              "\n",
              "  [theme=dark] .colab-df-quickchart {\n",
              "      --bg-color: #3B4455;\n",
              "      --fill-color: #D2E3FC;\n",
              "      --hover-bg-color: #434B5C;\n",
              "      --hover-fill-color: #FFFFFF;\n",
              "      --disabled-bg-color: #3B4455;\n",
              "      --disabled-fill-color: #666;\n",
              "  }\n",
              "\n",
              "  .colab-df-quickchart {\n",
              "    background-color: var(--bg-color);\n",
              "    border: none;\n",
              "    border-radius: 50%;\n",
              "    cursor: pointer;\n",
              "    display: none;\n",
              "    fill: var(--fill-color);\n",
              "    height: 32px;\n",
              "    padding: 0;\n",
              "    width: 32px;\n",
              "  }\n",
              "\n",
              "  .colab-df-quickchart:hover {\n",
              "    background-color: var(--hover-bg-color);\n",
              "    box-shadow: 0 1px 2px rgba(60, 64, 67, 0.3), 0 1px 3px 1px rgba(60, 64, 67, 0.15);\n",
              "    fill: var(--button-hover-fill-color);\n",
              "  }\n",
              "\n",
              "  .colab-df-quickchart-complete:disabled,\n",
              "  .colab-df-quickchart-complete:disabled:hover {\n",
              "    background-color: var(--disabled-bg-color);\n",
              "    fill: var(--disabled-fill-color);\n",
              "    box-shadow: none;\n",
              "  }\n",
              "\n",
              "  .colab-df-spinner {\n",
              "    border: 2px solid var(--fill-color);\n",
              "    border-color: transparent;\n",
              "    border-bottom-color: var(--fill-color);\n",
              "    animation:\n",
              "      spin 1s steps(1) infinite;\n",
              "  }\n",
              "\n",
              "  @keyframes spin {\n",
              "    0% {\n",
              "      border-color: transparent;\n",
              "      border-bottom-color: var(--fill-color);\n",
              "      border-left-color: var(--fill-color);\n",
              "    }\n",
              "    20% {\n",
              "      border-color: transparent;\n",
              "      border-left-color: var(--fill-color);\n",
              "      border-top-color: var(--fill-color);\n",
              "    }\n",
              "    30% {\n",
              "      border-color: transparent;\n",
              "      border-left-color: var(--fill-color);\n",
              "      border-top-color: var(--fill-color);\n",
              "      border-right-color: var(--fill-color);\n",
              "    }\n",
              "    40% {\n",
              "      border-color: transparent;\n",
              "      border-right-color: var(--fill-color);\n",
              "      border-top-color: var(--fill-color);\n",
              "    }\n",
              "    60% {\n",
              "      border-color: transparent;\n",
              "      border-right-color: var(--fill-color);\n",
              "    }\n",
              "    80% {\n",
              "      border-color: transparent;\n",
              "      border-right-color: var(--fill-color);\n",
              "      border-bottom-color: var(--fill-color);\n",
              "    }\n",
              "    90% {\n",
              "      border-color: transparent;\n",
              "      border-bottom-color: var(--fill-color);\n",
              "    }\n",
              "  }\n",
              "</style>\n",
              "\n",
              "  <script>\n",
              "    async function quickchart(key) {\n",
              "      const quickchartButtonEl =\n",
              "        document.querySelector('#' + key + ' button');\n",
              "      quickchartButtonEl.disabled = true;  // To prevent multiple clicks.\n",
              "      quickchartButtonEl.classList.add('colab-df-spinner');\n",
              "      try {\n",
              "        const charts = await google.colab.kernel.invokeFunction(\n",
              "            'suggestCharts', [key], {});\n",
              "      } catch (error) {\n",
              "        console.error('Error during call to suggestCharts:', error);\n",
              "      }\n",
              "      quickchartButtonEl.classList.remove('colab-df-spinner');\n",
              "      quickchartButtonEl.classList.add('colab-df-quickchart-complete');\n",
              "    }\n",
              "    (() => {\n",
              "      let quickchartButtonEl =\n",
              "        document.querySelector('#df-8b331f37-966e-45e8-a88d-ae7264ff17b0 button');\n",
              "      quickchartButtonEl.style.display =\n",
              "        google.colab.kernel.accessAllowed ? 'block' : 'none';\n",
              "    })();\n",
              "  </script>\n",
              "</div>\n",
              "\n",
              "    </div>\n",
              "  </div>\n"
            ],
            "text/plain": [
              "                                       combined_info\n",
              "0  Title: +1. Overview: Three college friends hit...\n",
              "1  Title: 10 Rules for Sleeping Around. Overview:...\n",
              "2  Title: 10 Things I Hate About You. Overview: A...\n",
              "3  Title: 100 Girls. Overview: Matt spends the ni...\n",
              "4  Title: 11/11/11. Overview: Nicole has six mont..."
            ]
          },
          "execution_count": 80,
          "metadata": {},
          "output_type": "execute_result"
        }
      ],
      "source": [
        "pd.read_csv('movie_updated.csv').head()"
      ]
    },
    {
      "cell_type": "markdown",
      "metadata": {
        "id": "EIvFhPVjW90Y"
      },
      "source": [
        "#Setting up openAI API"
      ]
    },
    {
      "cell_type": "code",
      "execution_count": 81,
      "metadata": {
        "id": "cxIJDfh76Mkq"
      },
      "outputs": [],
      "source": [
        "api_key = 'API_KEY'"
      ]
    },
    {
      "cell_type": "markdown",
      "metadata": {
        "id": "kT-qwCQUXNh9"
      },
      "source": [
        "Increase CSV field size limit to handle large text data, Load data using CSVLoader, Split data into chunks for embedding and Set up OpenAI embeddings"
      ]
    },
    {
      "cell_type": "code",
      "execution_count": 82,
      "metadata": {
        "id": "S4KBDYy0_YwN"
      },
      "outputs": [],
      "source": [
        "import csv\n",
        "import sys\n",
        "import time\n",
        "\n",
        "csv.field_size_limit(sys.maxsize)\n",
        "#data loader\n",
        "loader = CSVLoader(file_path=\"movie_updated.csv\")\n",
        "data = loader.load()\n",
        "\n",
        "#data transformers\n",
        "text_splitter = CharacterTextSplitter(chunk_size=1000, chunk_overlap=0)\n",
        "texts = text_splitter.split_documents(data)\n",
        "\n",
        "#embeddings model, this can be a local LLM as well\n",
        "embeddings = OpenAIEmbeddings(openai_api_key=api_key)\n",
        "llm = OpenAI(openai_api_key=api_key)"
      ]
    },
    {
      "cell_type": "markdown",
      "metadata": {
        "id": "mZZWwA0bXdx5"
      },
      "source": [
        "Sample text chunk"
      ]
    },
    {
      "cell_type": "code",
      "execution_count": 83,
      "metadata": {
        "colab": {
          "base_uri": "https://localhost:8080/"
        },
        "id": "DWk-7dGZANJ_",
        "outputId": "5f535e44-bc17-4b10-91dd-de6d6d55af60"
      },
      "outputs": [
        {
          "data": {
            "text/plain": [
              "Document(metadata={'source': 'movie_updated.csv', 'row': 1}, page_content='combined_info: Title: 10 Rules for Sleeping Around. Overview: A screwball sex comedy following two couples and their 10 rules to a happy, healthy, open relationship. Genres: [\\'Comedy\\', \\'Romance\\'] Reviews: This film begins with an attractive young woman named \"Cameron Johnson\" (Virginia Williams) asking her good friend \"Kate Oliver\" (Tammin Sursok) for permission to use her summer house in the Hamptons for the weekend. When Kate asks her what her plans are Cameron reveals that she has a date she would like to spend some time with. This shocks Kate because she knows that Cameron is married. It\\'s then that Cameron tells her that she and her husband \"Vince Johnson\" (Jesse Bradford) have an arraignment where they are allowed to sleep around with strangers as long as they follow 10 basic rules. As it so happens, at that exact same moment, Vince is also telling Kate\\'s boyfriend \"Ben Roberts\" (Chris Marquette) about their arraignment and encourages him to expand his horizons by asking Kate to allow another woman to join Ben and her in a threesome. However, when Ben does ask he is totally unprepared for Kate\\'s response. For that matter, none of them are fully prepared for the pandemonium they unleash when they all try to fulfill their desires. Now rather than reveal any more I will just say that there were some absolutely hilarious scenes in this film. Unfortunately, on more than a few occasions the director (Leslie Grief) wasn\\'t apparently satisfied with that and kept pushing the envelope much too far--and by doing so he often turned a humorous scene into something that was quite vulgar and distasteful. That being said, I\\'m not sure if he was trying to make a statement or not but the end result wasn\\'t something I particularly cared for and for that reason I have rated this film accordingly. Below average.')"
            ]
          },
          "execution_count": 83,
          "metadata": {},
          "output_type": "execute_result"
        }
      ],
      "source": [
        "texts[1]"
      ]
    },
    {
      "cell_type": "markdown",
      "metadata": {
        "id": "UHb8LHBsXhDl"
      },
      "source": [
        "Set up batch size and sleep time. Initialize an empty list to store embeddings. Embed the text data in batches"
      ]
    },
    {
      "cell_type": "code",
      "execution_count": 84,
      "metadata": {
        "id": "grzJQJSdCsDW"
      },
      "outputs": [],
      "source": [
        "# Batching and Rate Limiting\n",
        "batch_size = 32  # Adjust as needed\n",
        "sleep_time = 2  # Adjust as needed\n",
        "\n",
        "# Initialize an empty list to store embeddings\n",
        "embeddings_result = []\n",
        "\n",
        "# Iterate over the texts in batches and embed them\n",
        "for i in range(0, len(texts), batch_size):\n",
        "    batch = texts[i: i + batch_size]\n",
        "    # Ensure all elements in the batch are strings\n",
        "    batch = [str(text) for text in batch]  # Convert non-string elements to strings\n",
        "    embeddings_result.extend(embeddings.embed_documents(batch))  # Embed the batch\n",
        "    time.sleep(sleep_time)  # Introduce a delay after each batch"
      ]
    },
    {
      "cell_type": "markdown",
      "metadata": {
        "id": "QrxoNi4BXqqA"
      },
      "source": [
        "Reinstall chromadb if needed for vector store operations"
      ]
    },
    {
      "cell_type": "code",
      "execution_count": 85,
      "metadata": {
        "id": "WhQ4bVt9Lwx-"
      },
      "outputs": [],
      "source": [
        "!pip install chromadb --quiet"
      ]
    },
    {
      "cell_type": "markdown",
      "metadata": {
        "id": "lbpl2Wq0Xz2g"
      },
      "source": [
        "Creating a Vector Store\n",
        "\n",
        "Store the embedded texts in a Chroma vector store for efficient retrieval."
      ]
    },
    {
      "cell_type": "code",
      "execution_count": 86,
      "metadata": {
        "id": "WqlBr6KYLmIs"
      },
      "outputs": [],
      "source": [
        "from langchain.vectorstores import Chroma\n",
        "docsearch = Chroma.from_documents(\n",
        "    texts,\n",
        "    embeddings\n",
        ")"
      ]
    },
    {
      "cell_type": "markdown",
      "metadata": {
        "id": "we2psH9DX1Fi"
      },
      "source": [
        "Performing a Sample Query\n",
        "\n",
        "Use the vector store to perform a similarity search and retrieve relevant documents based on a user query.\n"
      ]
    },
    {
      "cell_type": "code",
      "execution_count": 87,
      "metadata": {
        "colab": {
          "base_uri": "https://localhost:8080/"
        },
        "id": "clNUirTe_bW4",
        "outputId": "15938d77-a3ca-40e4-a75d-ae7e2673b87f"
      },
      "outputs": [
        {
          "data": {
            "text/plain": [
              "[Document(metadata={'row': 1361, 'source': 'movie_updated.csv'}, page_content=\"combined_info: Title: The Quest. Overview: John Douglas, a high-society playboy, is a cynic concerning the women of his social set, and has a pictured ideal of the girl of his dreams. Wising to avoid the upcoming social season, he ...                See full summary\\xa0» Genres: ['Action', 'Adventure'] Reviews: A thief is kidnapped by smugglers and then forced to fight in a competition, in which the winner takes home the golden dragon(Which is apparently worth millions, but looks like it was made out of brass) lots of fight sequences ensue. The Quest is proof that action stars need not direct. Jean-Claude Van Damme directs each actor in such a lackluster fashion that they manage to almost become invisible. Roger Moore and James Remar are truly wasted and even the fight sequences are poorly staged. If you really want to see something like this done well, check out Bloodsport and Kickboxer.* out of 4 (Bad)\")]"
            ]
          },
          "execution_count": 87,
          "metadata": {},
          "output_type": "execute_result"
        }
      ],
      "source": [
        "query = \"I'm looking for an action movie. What could you suggest to me?\"\n",
        "docs = docsearch.similarity_search(query, k=1)\n",
        "docs"
      ]
    },
    {
      "cell_type": "markdown",
      "metadata": {
        "id": "v_SCVTSMX47o"
      },
      "source": [
        "# Setting Up OpenAI Chat Model\n",
        "\n",
        "Configure the OpenAI GPT-3.5 Turbo model for querying and set up environment variables.\n"
      ]
    },
    {
      "cell_type": "code",
      "execution_count": 88,
      "metadata": {
        "id": "ndGrfJP2MFKx"
      },
      "outputs": [],
      "source": [
        "import os\n",
        "os.environ['OPENAI_API_KEY'] = api_key"
      ]
    },
    {
      "cell_type": "code",
      "execution_count": 89,
      "metadata": {
        "id": "0j01cyHtMetg"
      },
      "outputs": [],
      "source": [
        "from langchain.chat_models import ChatOpenAI\n",
        "llm = ChatOpenAI(model_name='gpt-3.5-turbo', temperature=0)"
      ]
    },
    {
      "cell_type": "markdown",
      "metadata": {
        "id": "n3aSiVTfYHS6"
      },
      "source": [
        "Constructing a QA Chain\n",
        "\n",
        "Build a retrieval-based question-answering chain using the pre-loaded vector store and the chat model.\n"
      ]
    },
    {
      "cell_type": "code",
      "execution_count": 90,
      "metadata": {
        "id": "VRHBe3LwMh1y"
      },
      "outputs": [],
      "source": [
        "qa = RetrievalQA.from_chain_type(llm,\n",
        "                                 chain_type=\"stuff\",\n",
        "                                 retriever=docsearch.as_retriever(),\n",
        "                                 return_source_documents=True)"
      ]
    },
    {
      "cell_type": "markdown",
      "metadata": {
        "id": "cy70r_0CYMM3"
      },
      "source": [
        "Sample query using the QA chain"
      ]
    },
    {
      "cell_type": "code",
      "execution_count": 97,
      "metadata": {
        "colab": {
          "base_uri": "https://localhost:8080/",
          "height": 52
        },
        "id": "H9K3lzpEMkhC",
        "outputId": "3eeb286b-cc69-4ce8-e42a-011a6dfe9e1c"
      },
      "outputs": [
        {
          "data": {
            "application/vnd.google.colaboratory.intrinsic+json": {
              "type": "string"
            },
            "text/plain": [
              "'Based on your preferences and age, you might enjoy the movie \"La La Land.\" It is a romantic musical film that has received positive reviews for its captivating story, beautiful cinematography, and memorable music. Give it a try and see if it resonates with you!'"
            ]
          },
          "execution_count": 97,
          "metadata": {},
          "output_type": "execute_result"
        }
      ],
      "source": [
        "query = \"I'm looking for a romantic movie with a psitive review. What could you suggest to me?\"\n",
        "result = qa({\"query\": query})\n",
        "result['result']"
      ]
    },
    {
      "cell_type": "markdown",
      "metadata": {
        "id": "Nc1nhFz2Yb6b"
      },
      "source": [
        "Display the source document for the query result"
      ]
    },
    {
      "cell_type": "code",
      "execution_count": 98,
      "metadata": {
        "colab": {
          "base_uri": "https://localhost:8080/"
        },
        "id": "PlRDmoQkMr3p",
        "outputId": "65c2f925-6524-4808-97e9-ac8ccbbc91fb"
      },
      "outputs": [
        {
          "data": {
            "text/plain": [
              "Document(metadata={'row': 971, 'source': 'movie_updated.csv'}, page_content=\"combined_info: Title: Roman Holiday. Overview: A bored and sheltered princess escapes her guardians and falls in love with an American newsman in Rome. Genres: ['Comedy', 'Romance'] Reviews: I just don't get it how such movies get so many good reviews and even win Oscars! Now again, what's so good about this movie?! Don't bother answering, I know: Nothing! Boring story with no memorable lines and nothing about it is entertaining. I like Gregory Peck and Hepburn though but the movie just fails to do it for me.I think people just like fairy tales put for them in a realistic mold. I don't mind stories of the like but if were entertaining and can make me bear to the end.I have to say though that I can totally understand those movies were good in their own times being new ideas and when there was like one actor every 20 years but not nowadays, oh nah!\")"
            ]
          },
          "execution_count": 98,
          "metadata": {},
          "output_type": "execute_result"
        }
      ],
      "source": [
        "result['source_documents'][0]"
      ]
    },
    {
      "cell_type": "markdown",
      "metadata": {
        "id": "BEwBRxdfYkX6"
      },
      "source": [
        "# Custom Prompt for Movie Recommendations\n",
        "\n",
        "Define a custom prompt template to provide more detailed movie recommendations.\n"
      ]
    },
    {
      "cell_type": "code",
      "execution_count": 93,
      "metadata": {
        "colab": {
          "base_uri": "https://localhost:8080/"
        },
        "id": "f0IgO25oM7hy",
        "outputId": "47fd1b32-0e27-4933-b279-18ac6f176dd3"
      },
      "outputs": [
        {
          "name": "stdout",
          "output_type": "stream",
          "text": [
            "1. Princess Mononoke: This anime film follows the story of a young warrior who gets involved in a struggle between the gods of a forest and the humans who consume its resources. The movie features action-packed scenes with various animal spirits and creatures, making it a thrilling watch for fans of action and animals.\n",
            "\n",
            "2. Wolf Children: In this heartwarming anime movie, a young woman raises her half-wolf, half-human children after the death of their werewolf father. The film beautifully combines elements of action and drama, showcasing the unique bond between humans and animals in a touching and adventurous way.\n",
            "\n",
            "3. The Boy and the Beast: This anime film tells the story of a young boy who enters the beast world and becomes the disciple of a bear-like warrior. The movie is filled with action-packed sequences, featuring various animal characters and a captivating storyline that explores the connection between humans and beasts.\n"
          ]
        }
      ],
      "source": [
        "from langchain.prompts import PromptTemplate\n",
        "\n",
        "template = \"\"\"You are a movie recommender system that help users to find anime that match their preferences.\n",
        "Use the following pieces of context to answer the question at the end.\n",
        "For each question, suggest three movies, with a short description of the plot and the reason why the user might like it.\n",
        "If you don't know the answer, just say that you don't know, don't try to make up an answer.\n",
        "\n",
        "{context}\n",
        "\n",
        "Question: {question}\n",
        "Your response:\"\"\"\n",
        "\n",
        "\n",
        "PROMPT = PromptTemplate(\n",
        "    template=template, input_variables=[\"context\", \"question\"])\n",
        "\n",
        "chain_type_kwargs = {\"prompt\": PROMPT}\n",
        "\n",
        "llm=ChatOpenAI(model_name='gpt-3.5-turbo', temperature=0)\n",
        "\n",
        "qa = RetrievalQA.from_chain_type(llm=llm,\n",
        "    chain_type=\"stuff\",\n",
        "    retriever=docsearch.as_retriever(),\n",
        "    return_source_documents=True,\n",
        "    chain_type_kwargs=chain_type_kwargs)\n",
        "\n",
        "query = \"I'm looking for an action movie with animals, any suggestions?\"\n",
        "result = qa({'query':query})\n",
        "print(result['result'])"
      ]
    },
    {
      "cell_type": "markdown",
      "metadata": {
        "id": "4Jct_IqNYzBh"
      },
      "source": [
        "Adding User Information to the Prompt\n",
        "\n",
        "Incorporate user-specific information into the prompt to personalize movie recommendations.\n"
      ]
    },
    {
      "cell_type": "code",
      "execution_count": 94,
      "metadata": {
        "colab": {
          "base_uri": "https://localhost:8080/"
        },
        "id": "pjeTB-rwNJ_P",
        "outputId": "43c6a273-8eba-4f00-82fa-9392c2b538c5"
      },
      "outputs": [
        {
          "name": "stdout",
          "output_type": "stream",
          "text": [
            "You are a movie recommender system that help users to find movie that match their preferences. \n",
            "Use the following pieces of context to answer the question at the end. \n",
            "For each question, take into account the context and the personal information provided by the user.\n",
            "If you don't know the answer, just say that you don't know, don't try to make up an answer.\n",
            "\n",
            "{context}\n",
            "This is what we know about the user, and you can use this information to better tune your research:\n",
            "Age: 25\n",
            "Gender: male\n",
            "Question: {question}\n",
            "Your response:\n"
          ]
        }
      ],
      "source": [
        "from langchain.prompts import PromptTemplate\n",
        "\n",
        "template_prefix = \"\"\"You are a movie recommender system that help users to find movie that match their preferences.\n",
        "Use the following pieces of context to answer the question at the end.\n",
        "For each question, take into account the context and the personal information provided by the user.\n",
        "If you don't know the answer, just say that you don't know, don't try to make up an answer.\n",
        "\n",
        "{context}\"\"\"\n",
        "\n",
        "user_info = \"\"\"This is what we know about the user, and you can use this information to better tune your research:\n",
        "Age: {age}\n",
        "Gender: {gender}\"\"\"\n",
        "\n",
        "template_suffix= \"\"\"Question: {question}\n",
        "Your response:\"\"\"\n",
        "\n",
        "user_info = user_info.format(age = 25, gender = 'male')\n",
        "\n",
        "COMBINED_PROMPT = template_prefix +'\\n'+ user_info +'\\n'+ template_suffix\n",
        "print(COMBINED_PROMPT)"
      ]
    },
    {
      "cell_type": "markdown",
      "metadata": {
        "id": "Y2uPchXkYrPW"
      },
      "source": [
        "Set up the final prompt template"
      ]
    },
    {
      "cell_type": "code",
      "execution_count": 95,
      "metadata": {
        "colab": {
          "base_uri": "https://localhost:8080/"
        },
        "id": "6gxwsS8qNXHD",
        "outputId": "a1595767-042c-4896-914d-60f8115baa4f"
      },
      "outputs": [
        {
          "name": "stdout",
          "output_type": "stream",
          "text": [
            "Based on your preference for action movies with cats, I recommend checking out the movie \"Unleashed.\" It involves a cosmic event turning a dog and cat into two perfect guys, which might be an interesting twist for you.\n"
          ]
        }
      ],
      "source": [
        "PROMPT = PromptTemplate(\n",
        "    template=COMBINED_PROMPT, input_variables=[\"context\", \"question\"])\n",
        "\n",
        "chain_type_kwargs = {\"prompt\": PROMPT}\n",
        "qa = RetrievalQA.from_chain_type(llm=llm,\n",
        "    chain_type=\"stuff\",\n",
        "    retriever=docsearch.as_retriever(),\n",
        "    return_source_documents=True,\n",
        "    chain_type_kwargs=chain_type_kwargs)\n",
        "\n",
        "query = \"I'm looking for an action movie with cats, any suggestions?\"\n",
        "result = qa({'query':query})\n",
        "print(result['result'])"
      ]
    },
    {
      "cell_type": "code",
      "execution_count": 96,
      "metadata": {
        "colab": {
          "base_uri": "https://localhost:8080/"
        },
        "id": "RDkWugXSNeu6",
        "outputId": "9fd1caef-7119-4853-a441-d08791b97f4f"
      },
      "outputs": [
        {
          "data": {
            "text/plain": [
              "[Document(metadata={'row': 1486, 'source': 'movie_updated.csv'}, page_content=\"combined_info: Title: Unleashed. Overview: When a cosmic event turns Emma's dog and cat into two perfect guys, Emma reconsiders her outlook on dating, hilariously works out her trust issues, and ultimately learns to love herself. Genres: ['Action', 'Crime'] Reviews: This was a terrible movie. Some of the parts are so stupid & silly that I found myself laughing out loud. This movie has such an absolutely absurd plot that it is a waste of 8 dollars and 2 hours. Granted, Jet Li kicks some serious a$$, but it is nonetheless a terrible plot. The entire middle section of the movie contains almost no fighting - but instead, the movie tries to build up some stupid love drama. The movie starts out very promising - with some intense fight scenes, but then quickly goes downhill. Jet Li's acting is one for the record books - in some scenes of the movie - you may honestly think that this is a movie about mental retardation. Its extremely hard to classify this movie as a strict action movie (like I was expecting) because of its copious (and over the top) drama. Its a shame that Morgan Freeman's acting skills go to waste, but so be it. He probably should have read the script first. If you don't go into this movie expecting it to be like one of Jet Li's previous ones (i.e. Kiss of the Dragon), then you might like it. It just had way to much horribly acted out drama for my liking. I suggest taking your 8 dollars and going to see a different movie. spend it somewhere else.\"),\n",
              " Document(metadata={'row': 1486, 'source': 'movie_updated.csv'}, page_content=\"combined_info: Title: Unleashed. Overview: When a cosmic event turns Emma's dog and cat into two perfect guys, Emma reconsiders her outlook on dating, hilariously works out her trust issues, and ultimately learns to love herself. Genres: ['Action', 'Crime'] Reviews: This was a terrible movie. Some of the parts are so stupid & silly that I found myself laughing out loud. This movie has such an absolutely absurd plot that it is a waste of 8 dollars and 2 hours. Granted, Jet Li kicks some serious a$$, but it is nonetheless a terrible plot. The entire middle section of the movie contains almost no fighting - but instead, the movie tries to build up some stupid love drama. The movie starts out very promising - with some intense fight scenes, but then quickly goes downhill. Jet Li's acting is one for the record books - in some scenes of the movie - you may honestly think that this is a movie about mental retardation. Its extremely hard to classify this movie as a strict action movie (like I was expecting) because of its copious (and over the top) drama. Its a shame that Morgan Freeman's acting skills go to waste, but so be it. He probably should have read the script first. If you don't go into this movie expecting it to be like one of Jet Li's previous ones (i.e. Kiss of the Dragon), then you might like it. It just had way to much horribly acted out drama for my liking. I suggest taking your 8 dollars and going to see a different movie. spend it somewhere else.\"),\n",
              " Document(metadata={'row': 1478, 'source': 'movie_updated.csv'}, page_content=\"combined_info: Title: Underdog. Overview: After the sudden eviction from his home, a pianist travels to Thessaloniki to perform in the local nightclubs to make ends meet. Now, his beloved wants to have nothing to do with him, choosing to vanish from his life. What has happened? Genres: ['Action', 'Adventure', 'Comedy', 'Family'] Reviews: When I first became a father about 5.5 years ago, I was prepared for many of the sacrifices I'd have to make. I knew I'd have to change diapers and take them to swimming lessons and attend many a freezing Santa Claus parade, but I wasn't ready for the kind of sacrifice I made last night. This, in my humble opinion, is cruel and unusual punishment.Underdog is bad. It's not quite Karate Dog bad, but it makes The Shaggy Dog feel like Pulp Fiction. If Underdog were a television show, I'd recommend flipping on by. Not even the presence of Puddy and the voice of Banky Edwards can save it. Bow. Wow.It was also just about the best 80 minutes I've ever enjoyed. James was seated to the right of me and Michelle to the left, and I spent more time watching their reaction to this talking, flying mutt than watching the screen. At 5 and 3 years old, they were the target audience, and this movie nailed the target. There's a scene where Underdog belches loudly in another dogs face and Michelle thought it was the funniest scene ever captured on film. When Underdog was flying into outer space, James was literally at the edge of his seat, mesmerized. The kids absolutely loved Underdog, and that's why I was there. That's what last night was all about.Unless you're accompanying someone under the age of ten, you have no business wasting a second of your life watching this brutal film. But if you are looking to kill 80 minutes with your four year old, I won't judge. I had a blast.\"),\n",
              " Document(metadata={'row': 1478, 'source': 'movie_updated.csv'}, page_content=\"combined_info: Title: Underdog. Overview: After the sudden eviction from his home, a pianist travels to Thessaloniki to perform in the local nightclubs to make ends meet. Now, his beloved wants to have nothing to do with him, choosing to vanish from his life. What has happened? Genres: ['Action', 'Adventure', 'Comedy', 'Family'] Reviews: When I first became a father about 5.5 years ago, I was prepared for many of the sacrifices I'd have to make. I knew I'd have to change diapers and take them to swimming lessons and attend many a freezing Santa Claus parade, but I wasn't ready for the kind of sacrifice I made last night. This, in my humble opinion, is cruel and unusual punishment.Underdog is bad. It's not quite Karate Dog bad, but it makes The Shaggy Dog feel like Pulp Fiction. If Underdog were a television show, I'd recommend flipping on by. Not even the presence of Puddy and the voice of Banky Edwards can save it. Bow. Wow.It was also just about the best 80 minutes I've ever enjoyed. James was seated to the right of me and Michelle to the left, and I spent more time watching their reaction to this talking, flying mutt than watching the screen. At 5 and 3 years old, they were the target audience, and this movie nailed the target. There's a scene where Underdog belches loudly in another dogs face and Michelle thought it was the funniest scene ever captured on film. When Underdog was flying into outer space, James was literally at the edge of his seat, mesmerized. The kids absolutely loved Underdog, and that's why I was there. That's what last night was all about.Unless you're accompanying someone under the age of ten, you have no business wasting a second of your life watching this brutal film. But if you are looking to kill 80 minutes with your four year old, I won't judge. I had a blast.\")]"
            ]
          },
          "execution_count": 96,
          "metadata": {},
          "output_type": "execute_result"
        }
      ],
      "source": [
        "result['source_documents']"
      ]
    }
  ],
  "metadata": {
    "colab": {
      "collapsed_sections": [
        "CqPTP8qCV5dN",
        "5J4ZBl8KTksW",
        "pNt6Qzl4WORE",
        "mqv3PIVIWVVx",
        "EIvFhPVjW90Y",
        "v_SCVTSMX47o",
        "BEwBRxdfYkX6"
      ],
      "provenance": []
    },
    "kernelspec": {
      "display_name": "Python 3",
      "name": "python3"
    },
    "language_info": {
      "name": "python"
    }
  },
  "nbformat": 4,
  "nbformat_minor": 0
}
